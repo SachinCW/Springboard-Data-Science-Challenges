{
  "nbformat": 4,
  "nbformat_minor": 0,
  "metadata": {
    "colab": {
      "name": "DS Challenge 1 - Relax.ipynb",
      "provenance": [],
      "collapsed_sections": [],
      "include_colab_link": true
    },
    "kernelspec": {
      "name": "python3",
      "display_name": "Python 3"
    }
  },
  "cells": [
    {
      "cell_type": "markdown",
      "metadata": {
        "id": "view-in-github",
        "colab_type": "text"
      },
      "source": [
        "<a href=\"https://colab.research.google.com/github/SachinCW/Springboard-Data-Science-Challenges/blob/master/Relax%20Data%20Science%20Challenge/DS_Challenge_1_Relax.ipynb\" target=\"_parent\"><img src=\"https://colab.research.google.com/assets/colab-badge.svg\" alt=\"Open In Colab\"/></a>"
      ]
    },
    {
      "cell_type": "code",
      "metadata": {
        "id": "1Cfhzn6kP2EU",
        "colab_type": "code",
        "outputId": "af092db1-ecd5-4eab-84ed-495c3f5a3430",
        "colab": {
          "base_uri": "https://localhost:8080/",
          "height": 496
        }
      },
      "source": [
        "!pip install ipython-autotime\n",
        "%load_ext autotime\n",
        "# above lines get me the cell execution time.\n",
        "\n",
        "def warn(*args, **kwargs):\n",
        "    pass\n",
        "import warnings\n",
        "warnings.warn = warn\n",
        "#above lines help me avoid warnings thrown by sklearn\n",
        "\n",
        "import os\n",
        "import pandas as pd\n",
        "import numpy as np\n",
        "import matplotlib.pyplot as plt\n",
        "from sklearn.model_selection import train_test_split\n",
        "from sklearn.preprocessing import OrdinalEncoder\n",
        " \n",
        "#Files are in drive account of sachincw9@gmail.com\n",
        "from google.colab import drive \n",
        "drive.mount('/content/gdrive') \n",
        "os.chdir('gdrive/My Drive/DS_Take_Home_Challenge')\n",
        "!ls -ltr  \n",
        "\n",
        "from google.colab import files\n",
        "#files.download('relax_data_science_challenge.pdf') \n"
      ],
      "execution_count": 1,
      "outputs": [
        {
          "output_type": "stream",
          "text": [
            "Collecting ipython-autotime\n",
            "  Downloading https://files.pythonhosted.org/packages/e6/f9/0626bbdb322e3a078d968e87e3b01341e7890544de891d0cb613641220e6/ipython-autotime-0.1.tar.bz2\n",
            "Building wheels for collected packages: ipython-autotime\n",
            "  Building wheel for ipython-autotime (setup.py) ... \u001b[?25l\u001b[?25hdone\n",
            "  Created wheel for ipython-autotime: filename=ipython_autotime-0.1-cp36-none-any.whl size=1832 sha256=78dac7d2fd16b8cb33affde2941db40af77c695f42960bfcdb8eb51c32e73d82\n",
            "  Stored in directory: /root/.cache/pip/wheels/d2/df/81/2db1e54bc91002cec40334629bc39cfa86dff540b304ebcd6e\n",
            "Successfully built ipython-autotime\n",
            "Installing collected packages: ipython-autotime\n",
            "Successfully installed ipython-autotime-0.1\n",
            "Go to this URL in a browser: https://accounts.google.com/o/oauth2/auth?client_id=947318989803-6bn6qk8qdgf4n4g3pfee6491hc0brc4i.apps.googleusercontent.com&redirect_uri=urn%3aietf%3awg%3aoauth%3a2.0%3aoob&response_type=code&scope=email%20https%3a%2f%2fwww.googleapis.com%2fauth%2fdocs.test%20https%3a%2f%2fwww.googleapis.com%2fauth%2fdrive%20https%3a%2f%2fwww.googleapis.com%2fauth%2fdrive.photos.readonly%20https%3a%2f%2fwww.googleapis.com%2fauth%2fpeopleapi.readonly\n",
            "\n",
            "Enter your authorization code:\n",
            "··········\n",
            "Mounted at /content/gdrive\n",
            "total 25469\n",
            "-rw------- 1 root root  5832711 Dec  1 23:29 takehome_user_engagement.csv\n",
            "-rw------- 1 root root  1162702 Dec  1 23:29 takehome_users.csv\n",
            "-rw------- 1 root root    99913 Dec  1 23:30 relax_data_science_challenge.pdf\n",
            "-rw------- 1 root root   146975 Dec  1 23:30 ultimate_data_science_challenge.pdf\n",
            "-rw------- 1 root root 14824349 Dec  1 23:30 ultimate_data_challenge.json\n",
            "-rw------- 1 root root  2142282 Dec  1 23:30 logins.json\n",
            "-rw------- 1 root root    28435 Dec 19 16:16 org_id.xlsx\n",
            "-rw------- 1 root root   568174 Dec 19 17:53 df_relax.xlsx\n",
            "-rw------- 1 root root   568174 Dec 19 17:53 df_rel.xlsx\n",
            "-rw------- 1 root root   703275 Dec 19 17:56 df_rel.csv\n"
          ],
          "name": "stdout"
        }
      ]
    },
    {
      "cell_type": "code",
      "metadata": {
        "id": "nUlYn2acB5eR",
        "colab_type": "code",
        "outputId": "42c3e422-20dd-444b-c298-c4a08b691039",
        "colab": {
          "base_uri": "https://localhost:8080/",
          "height": 35
        }
      },
      "source": [
        "\n",
        "df_eng=pd.read_csv('takehome_user_engagement.csv',parse_dates=True)\n",
        "df_user=pd.read_csv('takehome_users.csv', encoding='latin-1')\n",
        "df_user.head()"
      ],
      "execution_count": 10,
      "outputs": [
        {
          "output_type": "stream",
          "text": [
            "time: 262 ms\n"
          ],
          "name": "stdout"
        }
      ]
    },
    {
      "cell_type": "code",
      "metadata": {
        "id": "Kst2B29n4hGt",
        "colab_type": "code",
        "outputId": "f47b506e-76f2-4ff1-8563-28fba85daf4f",
        "colab": {
          "base_uri": "https://localhost:8080/",
          "height": 225
        }
      },
      "source": [
        "df_eng.head()"
      ],
      "execution_count": 13,
      "outputs": [
        {
          "output_type": "execute_result",
          "data": {
            "text/html": [
              "<div>\n",
              "<style scoped>\n",
              "    .dataframe tbody tr th:only-of-type {\n",
              "        vertical-align: middle;\n",
              "    }\n",
              "\n",
              "    .dataframe tbody tr th {\n",
              "        vertical-align: top;\n",
              "    }\n",
              "\n",
              "    .dataframe thead th {\n",
              "        text-align: right;\n",
              "    }\n",
              "</style>\n",
              "<table border=\"1\" class=\"dataframe\">\n",
              "  <thead>\n",
              "    <tr style=\"text-align: right;\">\n",
              "      <th></th>\n",
              "      <th>time_stamp</th>\n",
              "      <th>user_id</th>\n",
              "      <th>visited</th>\n",
              "    </tr>\n",
              "  </thead>\n",
              "  <tbody>\n",
              "    <tr>\n",
              "      <th>0</th>\n",
              "      <td>2014-04-22 03:53:30</td>\n",
              "      <td>1</td>\n",
              "      <td>1</td>\n",
              "    </tr>\n",
              "    <tr>\n",
              "      <th>1</th>\n",
              "      <td>2013-11-15 03:45:04</td>\n",
              "      <td>2</td>\n",
              "      <td>1</td>\n",
              "    </tr>\n",
              "    <tr>\n",
              "      <th>2</th>\n",
              "      <td>2013-11-29 03:45:04</td>\n",
              "      <td>2</td>\n",
              "      <td>1</td>\n",
              "    </tr>\n",
              "    <tr>\n",
              "      <th>3</th>\n",
              "      <td>2013-12-09 03:45:04</td>\n",
              "      <td>2</td>\n",
              "      <td>1</td>\n",
              "    </tr>\n",
              "    <tr>\n",
              "      <th>4</th>\n",
              "      <td>2013-12-25 03:45:04</td>\n",
              "      <td>2</td>\n",
              "      <td>1</td>\n",
              "    </tr>\n",
              "  </tbody>\n",
              "</table>\n",
              "</div>"
            ],
            "text/plain": [
              "            time_stamp  user_id  visited\n",
              "0  2014-04-22 03:53:30        1        1\n",
              "1  2013-11-15 03:45:04        2        1\n",
              "2  2013-11-29 03:45:04        2        1\n",
              "3  2013-12-09 03:45:04        2        1\n",
              "4  2013-12-25 03:45:04        2        1"
            ]
          },
          "metadata": {
            "tags": []
          },
          "execution_count": 13
        },
        {
          "output_type": "stream",
          "text": [
            "time: 20.6 ms\n"
          ],
          "name": "stdout"
        }
      ]
    },
    {
      "cell_type": "code",
      "metadata": {
        "id": "epXUlAlZ5X1J",
        "colab_type": "code",
        "outputId": "9f628278-4f92-4165-ae29-68b5782097de",
        "colab": {
          "base_uri": "https://localhost:8080/",
          "height": 372
        }
      },
      "source": [
        "df_eng.drop(columns=['visited'],axis=0,inplace=True) # only value in visited column is 1. Hence, it can be dropped.\n",
        "\n",
        "# Convert time_stamp field's data type from object to datetime64 so that we can extract week and year information from it.\n",
        "# Then, Create date field from timestamp and drop timestamp field.\n",
        "\n",
        "df_eng['time_stamp']=pd.to_datetime(df_eng['time_stamp'])\n",
        "print(df_eng.info())\n",
        "df_eng['date']=df_eng['time_stamp'].dt.date\n",
        "df_eng.drop(columns=['time_stamp'],axis=0,inplace=True)\n",
        "\n",
        "\n",
        "#Drop duplicates - meaning drop multiple logins on the same day.\n",
        "df_eng.drop_duplicates(inplace=True)\n",
        "df_eng.head()"
      ],
      "execution_count": 14,
      "outputs": [
        {
          "output_type": "stream",
          "text": [
            "<class 'pandas.core.frame.DataFrame'>\n",
            "RangeIndex: 207917 entries, 0 to 207916\n",
            "Data columns (total 2 columns):\n",
            "time_stamp    207917 non-null datetime64[ns]\n",
            "user_id       207917 non-null int64\n",
            "dtypes: datetime64[ns](1), int64(1)\n",
            "memory usage: 3.2 MB\n",
            "None\n"
          ],
          "name": "stdout"
        },
        {
          "output_type": "execute_result",
          "data": {
            "text/html": [
              "<div>\n",
              "<style scoped>\n",
              "    .dataframe tbody tr th:only-of-type {\n",
              "        vertical-align: middle;\n",
              "    }\n",
              "\n",
              "    .dataframe tbody tr th {\n",
              "        vertical-align: top;\n",
              "    }\n",
              "\n",
              "    .dataframe thead th {\n",
              "        text-align: right;\n",
              "    }\n",
              "</style>\n",
              "<table border=\"1\" class=\"dataframe\">\n",
              "  <thead>\n",
              "    <tr style=\"text-align: right;\">\n",
              "      <th></th>\n",
              "      <th>user_id</th>\n",
              "      <th>date</th>\n",
              "    </tr>\n",
              "  </thead>\n",
              "  <tbody>\n",
              "    <tr>\n",
              "      <th>0</th>\n",
              "      <td>1</td>\n",
              "      <td>2014-04-22</td>\n",
              "    </tr>\n",
              "    <tr>\n",
              "      <th>1</th>\n",
              "      <td>2</td>\n",
              "      <td>2013-11-15</td>\n",
              "    </tr>\n",
              "    <tr>\n",
              "      <th>2</th>\n",
              "      <td>2</td>\n",
              "      <td>2013-11-29</td>\n",
              "    </tr>\n",
              "    <tr>\n",
              "      <th>3</th>\n",
              "      <td>2</td>\n",
              "      <td>2013-12-09</td>\n",
              "    </tr>\n",
              "    <tr>\n",
              "      <th>4</th>\n",
              "      <td>2</td>\n",
              "      <td>2013-12-25</td>\n",
              "    </tr>\n",
              "  </tbody>\n",
              "</table>\n",
              "</div>"
            ],
            "text/plain": [
              "   user_id        date\n",
              "0        1  2014-04-22\n",
              "1        2  2013-11-15\n",
              "2        2  2013-11-29\n",
              "3        2  2013-12-09\n",
              "4        2  2013-12-25"
            ]
          },
          "metadata": {
            "tags": []
          },
          "execution_count": 14
        },
        {
          "output_type": "stream",
          "text": [
            "time: 203 ms\n"
          ],
          "name": "stdout"
        }
      ]
    },
    {
      "cell_type": "markdown",
      "metadata": {
        "id": "0Rn2YIFsSV2B",
        "colab_type": "text"
      },
      "source": [
        "THE ASK : Defining  an  \"adopted  user\"   as  a  user  who   has  logged  into  the  product  on  three  separate\n",
        "days  in  at  least  one  seven­day  period ,  identify  which  factors  predict  future  user\n",
        "adoption \n"
      ]
    },
    {
      "cell_type": "markdown",
      "metadata": {
        "id": "O531n-FPhecJ",
        "colab_type": "text"
      },
      "source": [
        "From the below result, we find that login information is present from may 2012 till june 2014. So, we will have to extract the week as well as the year from the date field."
      ]
    },
    {
      "cell_type": "code",
      "metadata": {
        "id": "F-VsCNB6UF5X",
        "colab_type": "code",
        "outputId": "dce65bca-a872-4170-8013-d5c592c37c0a",
        "colab": {
          "base_uri": "https://localhost:8080/",
          "height": 35
        }
      },
      "source": [
        "min(df_eng.date),max(df_eng.date)"
      ],
      "execution_count": 15,
      "outputs": [
        {
          "output_type": "execute_result",
          "data": {
            "text/plain": [
              "(datetime.date(2012, 5, 31), datetime.date(2014, 6, 6))"
            ]
          },
          "metadata": {
            "tags": []
          },
          "execution_count": 15
        },
        {
          "output_type": "stream",
          "text": [
            "time: 46.5 ms\n"
          ],
          "name": "stdout"
        }
      ]
    },
    {
      "cell_type": "code",
      "metadata": {
        "id": "RmutlSJlUxnz",
        "colab_type": "code",
        "outputId": "e23886ef-c9ad-4203-fee0-aba2b843685c",
        "colab": {
          "base_uri": "https://localhost:8080/",
          "height": 702
        }
      },
      "source": [
        "df_eng.date=pd.to_datetime(df_eng.date)\n",
        "df_eng['week']=df_eng.date.dt.week\n",
        "df_eng['year']=df_eng.date.dt.year\n",
        "df_eng.drop(columns=['date'],inplace=True)\n",
        "df_eng.head()\n",
        "\n",
        "# Do a row level group counts and extract records with counts 3 or more. This means the users that logged in more than twice in a given week will get fetched.\n",
        "\n",
        "df_eng=df_eng.groupby(['user_id','week','year']).size().reset_index(name='counts')\n",
        "df_eng=df_eng[df_eng.counts>2]\n",
        "# Create a new column called Adoped and set it to 1 and drop columns not needed for further analysis.\n",
        "df_eng['Adopted']=1\n",
        "df_eng.drop(columns=['week','counts','year'],inplace=True)\n",
        "df_eng.drop_duplicates(inplace=True)\n",
        "print(\"DF ENGAGEMENT HEAD: \\n\",df_eng.head())\n",
        "print(\"DF ENGAGEMENT COUNT: \\n\",df_eng.count())\n",
        "# join user and engagement.\n",
        "df_user=df_user.merge(df_eng,how='left',left_on='object_id',right_on='user_id',indicator=True)\n",
        "print(\"DF USER COUNT: \\n\",df_user.count())\n",
        "\n",
        "# Drop irrelevant columns for modeling.\n",
        "df_user.drop(columns=['user_id','_merge','email','name'],inplace=True)\n",
        "df_user.Adopted.fillna(0,inplace=True)\n",
        "df=df_user.copy()\n",
        "df.head()"
      ],
      "execution_count": 16,
      "outputs": [
        {
          "output_type": "stream",
          "text": [
            "DF ENGAGEMENT HEAD: \n",
            "      user_id  Adopted\n",
            "3          2        1\n",
            "18        10        1\n",
            "97        20        1\n",
            "111       33        1\n",
            "127       42        1\n",
            "DF ENGAGEMENT COUNT: \n",
            " user_id    1444\n",
            "Adopted    1444\n",
            "dtype: int64\n",
            "DF USER COUNT: \n",
            " object_id                     12000\n",
            "creation_time                 12000\n",
            "name                          12000\n",
            "email                         12000\n",
            "creation_source               12000\n",
            "last_session_creation_time     8823\n",
            "opted_in_to_mailing_list      12000\n",
            "enabled_for_marketing_drip    12000\n",
            "org_id                        12000\n",
            "invited_by_user_id             6417\n",
            "user_id                        1444\n",
            "Adopted                        1444\n",
            "_merge                        12000\n",
            "dtype: int64\n"
          ],
          "name": "stdout"
        },
        {
          "output_type": "execute_result",
          "data": {
            "text/html": [
              "<div>\n",
              "<style scoped>\n",
              "    .dataframe tbody tr th:only-of-type {\n",
              "        vertical-align: middle;\n",
              "    }\n",
              "\n",
              "    .dataframe tbody tr th {\n",
              "        vertical-align: top;\n",
              "    }\n",
              "\n",
              "    .dataframe thead th {\n",
              "        text-align: right;\n",
              "    }\n",
              "</style>\n",
              "<table border=\"1\" class=\"dataframe\">\n",
              "  <thead>\n",
              "    <tr style=\"text-align: right;\">\n",
              "      <th></th>\n",
              "      <th>object_id</th>\n",
              "      <th>creation_time</th>\n",
              "      <th>creation_source</th>\n",
              "      <th>last_session_creation_time</th>\n",
              "      <th>opted_in_to_mailing_list</th>\n",
              "      <th>enabled_for_marketing_drip</th>\n",
              "      <th>org_id</th>\n",
              "      <th>invited_by_user_id</th>\n",
              "      <th>Adopted</th>\n",
              "    </tr>\n",
              "  </thead>\n",
              "  <tbody>\n",
              "    <tr>\n",
              "      <th>0</th>\n",
              "      <td>1</td>\n",
              "      <td>2014-04-22 03:53:30</td>\n",
              "      <td>GUEST_INVITE</td>\n",
              "      <td>1.398139e+09</td>\n",
              "      <td>1</td>\n",
              "      <td>0</td>\n",
              "      <td>11</td>\n",
              "      <td>10803.0</td>\n",
              "      <td>0.0</td>\n",
              "    </tr>\n",
              "    <tr>\n",
              "      <th>1</th>\n",
              "      <td>2</td>\n",
              "      <td>2013-11-15 03:45:04</td>\n",
              "      <td>ORG_INVITE</td>\n",
              "      <td>1.396238e+09</td>\n",
              "      <td>0</td>\n",
              "      <td>0</td>\n",
              "      <td>1</td>\n",
              "      <td>316.0</td>\n",
              "      <td>1.0</td>\n",
              "    </tr>\n",
              "    <tr>\n",
              "      <th>2</th>\n",
              "      <td>3</td>\n",
              "      <td>2013-03-19 23:14:52</td>\n",
              "      <td>ORG_INVITE</td>\n",
              "      <td>1.363735e+09</td>\n",
              "      <td>0</td>\n",
              "      <td>0</td>\n",
              "      <td>94</td>\n",
              "      <td>1525.0</td>\n",
              "      <td>0.0</td>\n",
              "    </tr>\n",
              "    <tr>\n",
              "      <th>3</th>\n",
              "      <td>4</td>\n",
              "      <td>2013-05-21 08:09:28</td>\n",
              "      <td>GUEST_INVITE</td>\n",
              "      <td>1.369210e+09</td>\n",
              "      <td>0</td>\n",
              "      <td>0</td>\n",
              "      <td>1</td>\n",
              "      <td>5151.0</td>\n",
              "      <td>0.0</td>\n",
              "    </tr>\n",
              "    <tr>\n",
              "      <th>4</th>\n",
              "      <td>5</td>\n",
              "      <td>2013-01-17 10:14:20</td>\n",
              "      <td>GUEST_INVITE</td>\n",
              "      <td>1.358850e+09</td>\n",
              "      <td>0</td>\n",
              "      <td>0</td>\n",
              "      <td>193</td>\n",
              "      <td>5240.0</td>\n",
              "      <td>0.0</td>\n",
              "    </tr>\n",
              "  </tbody>\n",
              "</table>\n",
              "</div>"
            ],
            "text/plain": [
              "   object_id        creation_time  ... invited_by_user_id  Adopted\n",
              "0          1  2014-04-22 03:53:30  ...            10803.0      0.0\n",
              "1          2  2013-11-15 03:45:04  ...              316.0      1.0\n",
              "2          3  2013-03-19 23:14:52  ...             1525.0      0.0\n",
              "3          4  2013-05-21 08:09:28  ...             5151.0      0.0\n",
              "4          5  2013-01-17 10:14:20  ...             5240.0      0.0\n",
              "\n",
              "[5 rows x 9 columns]"
            ]
          },
          "metadata": {
            "tags": []
          },
          "execution_count": 16
        },
        {
          "output_type": "stream",
          "text": [
            "time: 228 ms\n"
          ],
          "name": "stdout"
        }
      ]
    },
    {
      "cell_type": "code",
      "metadata": {
        "id": "RommJUsaTjrF",
        "colab_type": "code",
        "outputId": "b78f5a71-eb8f-421e-a4d4-4942b6b91c54",
        "colab": {
          "base_uri": "https://localhost:8080/",
          "height": 302
        }
      },
      "source": [
        "df.org_id.hist()"
      ],
      "execution_count": 17,
      "outputs": [
        {
          "output_type": "execute_result",
          "data": {
            "text/plain": [
              "<matplotlib.axes._subplots.AxesSubplot at 0x7fbc94725860>"
            ]
          },
          "metadata": {
            "tags": []
          },
          "execution_count": 17
        },
        {
          "output_type": "display_data",
          "data": {
            "image/png": "[encoded data removed]",
            "text/plain": [
              "<Figure size 432x288 with 1 Axes>"
            ]
          },
          "metadata": {
            "tags": []
          }
        },
        {
          "output_type": "stream",
          "text": [
            "time: 213 ms\n"
          ],
          "name": "stdout"
        }
      ]
    },
    {
      "cell_type": "code",
      "metadata": {
        "id": "SsQW5EqwVr2E",
        "colab_type": "code",
        "outputId": "d51c6b09-e3df-4b33-bc1d-d09873815158",
        "colab": {
          "base_uri": "https://localhost:8080/",
          "height": 54
        }
      },
      "source": [
        "df.org_id.isnull().value_counts()"
      ],
      "execution_count": 18,
      "outputs": [
        {
          "output_type": "execute_result",
          "data": {
            "text/plain": [
              "False    12000\n",
              "Name: org_id, dtype: int64"
            ]
          },
          "metadata": {
            "tags": []
          },
          "execution_count": 18
        },
        {
          "output_type": "stream",
          "text": [
            "time: 8.27 ms\n"
          ],
          "name": "stdout"
        }
      ]
    },
    {
      "cell_type": "markdown",
      "metadata": {
        "id": "mES7GiaeqM6C",
        "colab_type": "text"
      },
      "source": [
        "The above exploratory analysis was done to check if there are blank values in org_id and to get the histogram of org ids. It is clear that there are over 400 organizations and the bulk of them have ids from 1 to around 125.\n",
        "Since the unique values of this field are so huge, it may not be a good candidate to be considered as  a categorical field that can be included in the modelling.."
      ]
    },
    {
      "cell_type": "code",
      "metadata": {
        "id": "waebo14hVE0Q",
        "colab_type": "code",
        "outputId": "e1a26bb7-4fb8-4bc4-a261-c11f6ada8fd8",
        "colab": {
          "base_uri": "https://localhost:8080/",
          "height": 302
        }
      },
      "source": [
        "df.invited_by_user_id.hist()"
      ],
      "execution_count": 19,
      "outputs": [
        {
          "output_type": "execute_result",
          "data": {
            "text/plain": [
              "<matplotlib.axes._subplots.AxesSubplot at 0x7fbc929284e0>"
            ]
          },
          "metadata": {
            "tags": []
          },
          "execution_count": 19
        },
        {
          "output_type": "display_data",
          "data": {
            "image/png": "[encoded data removed]",
            "text/plain": [
              "<Figure size 432x288 with 1 Axes>"
            ]
          },
          "metadata": {
            "tags": []
          }
        },
        {
          "output_type": "stream",
          "text": [
            "time: 272 ms\n"
          ],
          "name": "stdout"
        }
      ]
    },
    {
      "cell_type": "markdown",
      "metadata": {
        "id": "V9GZxfXCq0hK",
        "colab_type": "text"
      },
      "source": [
        "The above exploratory analysis was done to check if there are blank values in invited_by_user_id field and to get its histogram . It is clear that there are many users who have invited many users.   It may not be a good candidate to be considered as feature directly that can be included in the modelling.. Instead, we can derive if a particular user has been invited by an existing user or not and that derived feature can be used in modelling based on how much impact it has on the target value."
      ]
    },
    {
      "cell_type": "code",
      "metadata": {
        "id": "Mf9vEq5IVUnj",
        "colab_type": "code",
        "outputId": "6417ff31-0666-4d15-c846-e420c6f50dbf",
        "colab": {
          "base_uri": "https://localhost:8080/",
          "height": 72
        }
      },
      "source": [
        "df.invited_by_user_id.isnull().value_counts()"
      ],
      "execution_count": 20,
      "outputs": [
        {
          "output_type": "execute_result",
          "data": {
            "text/plain": [
              "False    6417\n",
              "True     5583\n",
              "Name: invited_by_user_id, dtype: int64"
            ]
          },
          "metadata": {
            "tags": []
          },
          "execution_count": 20
        },
        {
          "output_type": "stream",
          "text": [
            "time: 8.76 ms\n"
          ],
          "name": "stdout"
        }
      ]
    },
    {
      "cell_type": "code",
      "metadata": {
        "id": "rtwJad8vyXyw",
        "colab_type": "code",
        "outputId": "3709ea74-5d22-4a6c-8583-7eb182c5555f",
        "colab": {
          "base_uri": "https://localhost:8080/",
          "height": 201
        }
      },
      "source": [
        "df.count()"
      ],
      "execution_count": 21,
      "outputs": [
        {
          "output_type": "execute_result",
          "data": {
            "text/plain": [
              "object_id                     12000\n",
              "creation_time                 12000\n",
              "creation_source               12000\n",
              "last_session_creation_time     8823\n",
              "opted_in_to_mailing_list      12000\n",
              "enabled_for_marketing_drip    12000\n",
              "org_id                        12000\n",
              "invited_by_user_id             6417\n",
              "Adopted                       12000\n",
              "dtype: int64"
            ]
          },
          "metadata": {
            "tags": []
          },
          "execution_count": 21
        },
        {
          "output_type": "stream",
          "text": [
            "time: 9.24 ms\n"
          ],
          "name": "stdout"
        }
      ]
    },
    {
      "cell_type": "code",
      "metadata": {
        "id": "UiLI4Kx8xttP",
        "colab_type": "code",
        "colab": {
          "base_uri": "https://localhost:8080/",
          "height": 537
        },
        "outputId": "171c0db2-3532-41bc-9da2-2ae302b82a98"
      },
      "source": [
        "\n",
        "from datetime import datetime\n",
        "\n",
        "df.creation_time=pd.to_datetime(df.creation_time)\n",
        "\n",
        "df[df['last_session_creation_time'].notnull()]\n",
        "df['last_session_time'] = df[df['last_session_creation_time'].notnull()]['last_session_creation_time'].apply(datetime.fromtimestamp) \n",
        "df['creation_login_gap']=( df[df.last_session_time.notnull()].last_session_time -  df[df.last_session_time.notnull()].creation_time )/ np.timedelta64(1, 'D')\n",
        "\n",
        "print(df.info())\n",
        "df.head()\n"
      ],
      "execution_count": 22,
      "outputs": [
        {
          "output_type": "stream",
          "text": [
            "<class 'pandas.core.frame.DataFrame'>\n",
            "Int64Index: 12000 entries, 0 to 11999\n",
            "Data columns (total 11 columns):\n",
            "object_id                     12000 non-null int64\n",
            "creation_time                 12000 non-null datetime64[ns]\n",
            "creation_source               12000 non-null object\n",
            "last_session_creation_time    8823 non-null float64\n",
            "opted_in_to_mailing_list      12000 non-null int64\n",
            "enabled_for_marketing_drip    12000 non-null int64\n",
            "org_id                        12000 non-null int64\n",
            "invited_by_user_id            6417 non-null float64\n",
            "Adopted                       12000 non-null float64\n",
            "last_session_time             8823 non-null datetime64[ns]\n",
            "creation_login_gap            8823 non-null float64\n",
            "dtypes: datetime64[ns](2), float64(4), int64(4), object(1)\n",
            "memory usage: 1.1+ MB\n",
            "None\n"
          ],
          "name": "stdout"
        },
        {
          "output_type": "execute_result",
          "data": {
            "text/html": [
              "<div>\n",
              "<style scoped>\n",
              "    .dataframe tbody tr th:only-of-type {\n",
              "        vertical-align: middle;\n",
              "    }\n",
              "\n",
              "    .dataframe tbody tr th {\n",
              "        vertical-align: top;\n",
              "    }\n",
              "\n",
              "    .dataframe thead th {\n",
              "        text-align: right;\n",
              "    }\n",
              "</style>\n",
              "<table border=\"1\" class=\"dataframe\">\n",
              "  <thead>\n",
              "    <tr style=\"text-align: right;\">\n",
              "      <th></th>\n",
              "      <th>object_id</th>\n",
              "      <th>creation_time</th>\n",
              "      <th>creation_source</th>\n",
              "      <th>last_session_creation_time</th>\n",
              "      <th>opted_in_to_mailing_list</th>\n",
              "      <th>enabled_for_marketing_drip</th>\n",
              "      <th>org_id</th>\n",
              "      <th>invited_by_user_id</th>\n",
              "      <th>Adopted</th>\n",
              "      <th>last_session_time</th>\n",
              "      <th>creation_login_gap</th>\n",
              "    </tr>\n",
              "  </thead>\n",
              "  <tbody>\n",
              "    <tr>\n",
              "      <th>0</th>\n",
              "      <td>1</td>\n",
              "      <td>2014-04-22 03:53:30</td>\n",
              "      <td>GUEST_INVITE</td>\n",
              "      <td>1.398139e+09</td>\n",
              "      <td>1</td>\n",
              "      <td>0</td>\n",
              "      <td>11</td>\n",
              "      <td>10803.0</td>\n",
              "      <td>0.0</td>\n",
              "      <td>2014-04-22 03:53:30</td>\n",
              "      <td>0.0</td>\n",
              "    </tr>\n",
              "    <tr>\n",
              "      <th>1</th>\n",
              "      <td>2</td>\n",
              "      <td>2013-11-15 03:45:04</td>\n",
              "      <td>ORG_INVITE</td>\n",
              "      <td>1.396238e+09</td>\n",
              "      <td>0</td>\n",
              "      <td>0</td>\n",
              "      <td>1</td>\n",
              "      <td>316.0</td>\n",
              "      <td>1.0</td>\n",
              "      <td>2014-03-31 03:45:04</td>\n",
              "      <td>136.0</td>\n",
              "    </tr>\n",
              "    <tr>\n",
              "      <th>2</th>\n",
              "      <td>3</td>\n",
              "      <td>2013-03-19 23:14:52</td>\n",
              "      <td>ORG_INVITE</td>\n",
              "      <td>1.363735e+09</td>\n",
              "      <td>0</td>\n",
              "      <td>0</td>\n",
              "      <td>94</td>\n",
              "      <td>1525.0</td>\n",
              "      <td>0.0</td>\n",
              "      <td>2013-03-19 23:14:52</td>\n",
              "      <td>0.0</td>\n",
              "    </tr>\n",
              "    <tr>\n",
              "      <th>3</th>\n",
              "      <td>4</td>\n",
              "      <td>2013-05-21 08:09:28</td>\n",
              "      <td>GUEST_INVITE</td>\n",
              "      <td>1.369210e+09</td>\n",
              "      <td>0</td>\n",
              "      <td>0</td>\n",
              "      <td>1</td>\n",
              "      <td>5151.0</td>\n",
              "      <td>0.0</td>\n",
              "      <td>2013-05-22 08:09:28</td>\n",
              "      <td>1.0</td>\n",
              "    </tr>\n",
              "    <tr>\n",
              "      <th>4</th>\n",
              "      <td>5</td>\n",
              "      <td>2013-01-17 10:14:20</td>\n",
              "      <td>GUEST_INVITE</td>\n",
              "      <td>1.358850e+09</td>\n",
              "      <td>0</td>\n",
              "      <td>0</td>\n",
              "      <td>193</td>\n",
              "      <td>5240.0</td>\n",
              "      <td>0.0</td>\n",
              "      <td>2013-01-22 10:14:20</td>\n",
              "      <td>5.0</td>\n",
              "    </tr>\n",
              "  </tbody>\n",
              "</table>\n",
              "</div>"
            ],
            "text/plain": [
              "   object_id       creation_time  ...   last_session_time  creation_login_gap\n",
              "0          1 2014-04-22 03:53:30  ... 2014-04-22 03:53:30                 0.0\n",
              "1          2 2013-11-15 03:45:04  ... 2014-03-31 03:45:04               136.0\n",
              "2          3 2013-03-19 23:14:52  ... 2013-03-19 23:14:52                 0.0\n",
              "3          4 2013-05-21 08:09:28  ... 2013-05-22 08:09:28                 1.0\n",
              "4          5 2013-01-17 10:14:20  ... 2013-01-22 10:14:20                 5.0\n",
              "\n",
              "[5 rows x 11 columns]"
            ]
          },
          "metadata": {
            "tags": []
          },
          "execution_count": 22
        },
        {
          "output_type": "stream",
          "text": [
            "time: 87.7 ms\n"
          ],
          "name": "stdout"
        }
      ]
    },
    {
      "cell_type": "code",
      "metadata": {
        "id": "ywOORT5R25EZ",
        "colab_type": "code",
        "colab": {
          "base_uri": "https://localhost:8080/",
          "height": 302
        },
        "outputId": "d1684d76-c40a-41f4-9724-c895f580c40f"
      },
      "source": [
        "df.creation_login_gap.plot()"
      ],
      "execution_count": 26,
      "outputs": [
        {
          "output_type": "execute_result",
          "data": {
            "text/plain": [
              "<matplotlib.axes._subplots.AxesSubplot at 0x7fbc92894be0>"
            ]
          },
          "metadata": {
            "tags": []
          },
          "execution_count": 26
        },
        {
          "output_type": "display_data",
          "data": {
            "image/png": "[encoded data removed]",
            "text/plain": [
              "<Figure size 432x288 with 1 Axes>"
            ]
          },
          "metadata": {
            "tags": []
          }
        },
        {
          "output_type": "stream",
          "text": [
            "time: 241 ms\n"
          ],
          "name": "stdout"
        }
      ]
    },
    {
      "cell_type": "code",
      "metadata": {
        "id": "Ni8hGpke6hpA",
        "colab_type": "code",
        "colab": {
          "base_uri": "https://localhost:8080/",
          "height": 319
        },
        "outputId": "f016e1df-cb2d-4db8-e228-5f37a0e58b59"
      },
      "source": [
        "df.describe()"
      ],
      "execution_count": 27,
      "outputs": [
        {
          "output_type": "execute_result",
          "data": {
            "text/html": [
              "<div>\n",
              "<style scoped>\n",
              "    .dataframe tbody tr th:only-of-type {\n",
              "        vertical-align: middle;\n",
              "    }\n",
              "\n",
              "    .dataframe tbody tr th {\n",
              "        vertical-align: top;\n",
              "    }\n",
              "\n",
              "    .dataframe thead th {\n",
              "        text-align: right;\n",
              "    }\n",
              "</style>\n",
              "<table border=\"1\" class=\"dataframe\">\n",
              "  <thead>\n",
              "    <tr style=\"text-align: right;\">\n",
              "      <th></th>\n",
              "      <th>object_id</th>\n",
              "      <th>last_session_creation_time</th>\n",
              "      <th>opted_in_to_mailing_list</th>\n",
              "      <th>enabled_for_marketing_drip</th>\n",
              "      <th>org_id</th>\n",
              "      <th>invited_by_user_id</th>\n",
              "      <th>Adopted</th>\n",
              "      <th>creation_login_gap</th>\n",
              "    </tr>\n",
              "  </thead>\n",
              "  <tbody>\n",
              "    <tr>\n",
              "      <th>count</th>\n",
              "      <td>12000.00000</td>\n",
              "      <td>8.823000e+03</td>\n",
              "      <td>12000.000000</td>\n",
              "      <td>12000.000000</td>\n",
              "      <td>12000.000000</td>\n",
              "      <td>6417.000000</td>\n",
              "      <td>12000.000000</td>\n",
              "      <td>8823.000000</td>\n",
              "    </tr>\n",
              "    <tr>\n",
              "      <th>mean</th>\n",
              "      <td>6000.50000</td>\n",
              "      <td>1.379279e+09</td>\n",
              "      <td>0.249500</td>\n",
              "      <td>0.149333</td>\n",
              "      <td>141.884583</td>\n",
              "      <td>5962.957145</td>\n",
              "      <td>0.120333</td>\n",
              "      <td>59.222147</td>\n",
              "    </tr>\n",
              "    <tr>\n",
              "      <th>std</th>\n",
              "      <td>3464.24595</td>\n",
              "      <td>1.953116e+07</td>\n",
              "      <td>0.432742</td>\n",
              "      <td>0.356432</td>\n",
              "      <td>124.056723</td>\n",
              "      <td>3383.761968</td>\n",
              "      <td>0.325364</td>\n",
              "      <td>144.172167</td>\n",
              "    </tr>\n",
              "    <tr>\n",
              "      <th>min</th>\n",
              "      <td>1.00000</td>\n",
              "      <td>1.338452e+09</td>\n",
              "      <td>0.000000</td>\n",
              "      <td>0.000000</td>\n",
              "      <td>0.000000</td>\n",
              "      <td>3.000000</td>\n",
              "      <td>0.000000</td>\n",
              "      <td>0.000000</td>\n",
              "    </tr>\n",
              "    <tr>\n",
              "      <th>25%</th>\n",
              "      <td>3000.75000</td>\n",
              "      <td>1.363195e+09</td>\n",
              "      <td>0.000000</td>\n",
              "      <td>0.000000</td>\n",
              "      <td>29.000000</td>\n",
              "      <td>3058.000000</td>\n",
              "      <td>0.000000</td>\n",
              "      <td>0.000000</td>\n",
              "    </tr>\n",
              "    <tr>\n",
              "      <th>50%</th>\n",
              "      <td>6000.50000</td>\n",
              "      <td>1.382888e+09</td>\n",
              "      <td>0.000000</td>\n",
              "      <td>0.000000</td>\n",
              "      <td>108.000000</td>\n",
              "      <td>5954.000000</td>\n",
              "      <td>0.000000</td>\n",
              "      <td>1.000000</td>\n",
              "    </tr>\n",
              "    <tr>\n",
              "      <th>75%</th>\n",
              "      <td>9000.25000</td>\n",
              "      <td>1.398443e+09</td>\n",
              "      <td>0.000000</td>\n",
              "      <td>0.000000</td>\n",
              "      <td>238.250000</td>\n",
              "      <td>8817.000000</td>\n",
              "      <td>0.000000</td>\n",
              "      <td>20.000000</td>\n",
              "    </tr>\n",
              "    <tr>\n",
              "      <th>max</th>\n",
              "      <td>12000.00000</td>\n",
              "      <td>1.402067e+09</td>\n",
              "      <td>1.000000</td>\n",
              "      <td>1.000000</td>\n",
              "      <td>416.000000</td>\n",
              "      <td>11999.000000</td>\n",
              "      <td>1.000000</td>\n",
              "      <td>729.000000</td>\n",
              "    </tr>\n",
              "  </tbody>\n",
              "</table>\n",
              "</div>"
            ],
            "text/plain": [
              "         object_id  ...  creation_login_gap\n",
              "count  12000.00000  ...         8823.000000\n",
              "mean    6000.50000  ...           59.222147\n",
              "std     3464.24595  ...          144.172167\n",
              "min        1.00000  ...            0.000000\n",
              "25%     3000.75000  ...            0.000000\n",
              "50%     6000.50000  ...            1.000000\n",
              "75%     9000.25000  ...           20.000000\n",
              "max    12000.00000  ...          729.000000\n",
              "\n",
              "[8 rows x 8 columns]"
            ]
          },
          "metadata": {
            "tags": []
          },
          "execution_count": 27
        },
        {
          "output_type": "stream",
          "text": [
            "time: 52 ms\n"
          ],
          "name": "stdout"
        }
      ]
    },
    {
      "cell_type": "code",
      "metadata": {
        "id": "5IOfM0V79eAf",
        "colab_type": "code",
        "colab": {
          "base_uri": "https://localhost:8080/",
          "height": 72
        },
        "outputId": "cd7fc757-d85e-43e5-cba4-9630de39ac80"
      },
      "source": [
        "df.creation_login_gap.isnull().value_counts()"
      ],
      "execution_count": 29,
      "outputs": [
        {
          "output_type": "execute_result",
          "data": {
            "text/plain": [
              "False    8823\n",
              "True     3177\n",
              "Name: creation_login_gap, dtype: int64"
            ]
          },
          "metadata": {
            "tags": []
          },
          "execution_count": 29
        },
        {
          "output_type": "stream",
          "text": [
            "time: 8 ms\n"
          ],
          "name": "stdout"
        }
      ]
    },
    {
      "cell_type": "code",
      "metadata": {
        "id": "BH34jv_nVF-p",
        "colab_type": "code",
        "colab": {
          "base_uri": "https://localhost:8080/",
          "height": 225
        },
        "outputId": "67603979-b1a0-4af0-c3f7-ed4de863b900"
      },
      "source": [
        "#Create a categorical column based on whether user was invited by an existing user\n",
        "df['invited']=np.where(df['invited_by_user_id'].isnull(),0,1)\n",
        "df.Adopted=df.Adopted.astype(int)\n",
        "\n",
        "#We have 3177 records with no information about the user's last session login time and hence, the creation_login_gap has null in 3177 records. They need to be set to 0. \n",
        "df['creation_login_gap']=np.where(df['creation_login_gap'].isnull(),0,df['creation_login_gap'])\n",
        "\n",
        "# drop object_id( unique identifier) and creation time.\n",
        "# Also, drop org_id and invited_by_user_id. This is because they are again just qualitative information ( like a large list of categorical values) and not quantitative information\n",
        "df.drop(columns=['org_id','object_id','invited_by_user_id','creation_time'],inplace=True)\n",
        "df.head()"
      ],
      "execution_count": 30,
      "outputs": [
        {
          "output_type": "execute_result",
          "data": {
            "text/html": [
              "<div>\n",
              "<style scoped>\n",
              "    .dataframe tbody tr th:only-of-type {\n",
              "        vertical-align: middle;\n",
              "    }\n",
              "\n",
              "    .dataframe tbody tr th {\n",
              "        vertical-align: top;\n",
              "    }\n",
              "\n",
              "    .dataframe thead th {\n",
              "        text-align: right;\n",
              "    }\n",
              "</style>\n",
              "<table border=\"1\" class=\"dataframe\">\n",
              "  <thead>\n",
              "    <tr style=\"text-align: right;\">\n",
              "      <th></th>\n",
              "      <th>creation_source</th>\n",
              "      <th>last_session_creation_time</th>\n",
              "      <th>opted_in_to_mailing_list</th>\n",
              "      <th>enabled_for_marketing_drip</th>\n",
              "      <th>Adopted</th>\n",
              "      <th>last_session_time</th>\n",
              "      <th>creation_login_gap</th>\n",
              "      <th>invited</th>\n",
              "    </tr>\n",
              "  </thead>\n",
              "  <tbody>\n",
              "    <tr>\n",
              "      <th>0</th>\n",
              "      <td>GUEST_INVITE</td>\n",
              "      <td>1.398139e+09</td>\n",
              "      <td>1</td>\n",
              "      <td>0</td>\n",
              "      <td>0</td>\n",
              "      <td>2014-04-22 03:53:30</td>\n",
              "      <td>0.0</td>\n",
              "      <td>1</td>\n",
              "    </tr>\n",
              "    <tr>\n",
              "      <th>1</th>\n",
              "      <td>ORG_INVITE</td>\n",
              "      <td>1.396238e+09</td>\n",
              "      <td>0</td>\n",
              "      <td>0</td>\n",
              "      <td>1</td>\n",
              "      <td>2014-03-31 03:45:04</td>\n",
              "      <td>136.0</td>\n",
              "      <td>1</td>\n",
              "    </tr>\n",
              "    <tr>\n",
              "      <th>2</th>\n",
              "      <td>ORG_INVITE</td>\n",
              "      <td>1.363735e+09</td>\n",
              "      <td>0</td>\n",
              "      <td>0</td>\n",
              "      <td>0</td>\n",
              "      <td>2013-03-19 23:14:52</td>\n",
              "      <td>0.0</td>\n",
              "      <td>1</td>\n",
              "    </tr>\n",
              "    <tr>\n",
              "      <th>3</th>\n",
              "      <td>GUEST_INVITE</td>\n",
              "      <td>1.369210e+09</td>\n",
              "      <td>0</td>\n",
              "      <td>0</td>\n",
              "      <td>0</td>\n",
              "      <td>2013-05-22 08:09:28</td>\n",
              "      <td>1.0</td>\n",
              "      <td>1</td>\n",
              "    </tr>\n",
              "    <tr>\n",
              "      <th>4</th>\n",
              "      <td>GUEST_INVITE</td>\n",
              "      <td>1.358850e+09</td>\n",
              "      <td>0</td>\n",
              "      <td>0</td>\n",
              "      <td>0</td>\n",
              "      <td>2013-01-22 10:14:20</td>\n",
              "      <td>5.0</td>\n",
              "      <td>1</td>\n",
              "    </tr>\n",
              "  </tbody>\n",
              "</table>\n",
              "</div>"
            ],
            "text/plain": [
              "  creation_source  last_session_creation_time  ...  creation_login_gap  invited\n",
              "0    GUEST_INVITE                1.398139e+09  ...                 0.0        1\n",
              "1      ORG_INVITE                1.396238e+09  ...               136.0        1\n",
              "2      ORG_INVITE                1.363735e+09  ...                 0.0        1\n",
              "3    GUEST_INVITE                1.369210e+09  ...                 1.0        1\n",
              "4    GUEST_INVITE                1.358850e+09  ...                 5.0        1\n",
              "\n",
              "[5 rows x 8 columns]"
            ]
          },
          "metadata": {
            "tags": []
          },
          "execution_count": 30
        },
        {
          "output_type": "stream",
          "text": [
            "time: 40.9 ms\n"
          ],
          "name": "stdout"
        }
      ]
    },
    {
      "cell_type": "code",
      "metadata": {
        "id": "ue-UJxGdNI60",
        "colab_type": "code",
        "colab": {
          "base_uri": "https://localhost:8080/",
          "height": 72
        },
        "outputId": "ebe50011-4148-4f27-e199-e938b15dda49"
      },
      "source": [
        "df.Adopted.value_counts()\n"
      ],
      "execution_count": 33,
      "outputs": [
        {
          "output_type": "execute_result",
          "data": {
            "text/plain": [
              "0    10556\n",
              "1     1444\n",
              "Name: Adopted, dtype: int64"
            ]
          },
          "metadata": {
            "tags": []
          },
          "execution_count": 33
        },
        {
          "output_type": "stream",
          "text": [
            "time: 25.9 ms\n"
          ],
          "name": "stdout"
        }
      ]
    },
    {
      "cell_type": "markdown",
      "metadata": {
        "id": "vOIWFiPVrjf8",
        "colab_type": "text"
      },
      "source": [
        "We find from the above that there are 1444 Adoped users from amongst 12000 users. This is a highly imbalanced dataset.\n"
      ]
    },
    {
      "cell_type": "code",
      "metadata": {
        "id": "KmBdxdQa0i0l",
        "colab_type": "code",
        "colab": {
          "base_uri": "https://localhost:8080/",
          "height": 35
        },
        "outputId": "729f70d6-f1ae-4ef3-e523-8f132941f00a"
      },
      "source": [
        "'''from sklearn.preprocessing import LabelEncoder\n",
        "\n",
        "gle = LabelEncoder()\n",
        "creation_labels = gle.fit_transform(df['creation_source'])\n",
        "df.creation_source = creation_labels\n",
        "'''\n"
      ],
      "execution_count": 34,
      "outputs": [
        {
          "output_type": "execute_result",
          "data": {
            "text/plain": [
              "\"from sklearn.preprocessing import LabelEncoder\\n\\ngle = LabelEncoder()\\ncreation_labels = gle.fit_transform(df['creation_source'])\\ndf.creation_source = creation_labels\\n\""
            ]
          },
          "metadata": {
            "tags": []
          },
          "execution_count": 34
        },
        {
          "output_type": "stream",
          "text": [
            "time: 4.47 ms\n"
          ],
          "name": "stdout"
        }
      ]
    },
    {
      "cell_type": "code",
      "metadata": {
        "id": "fOoCzw-z1pQm",
        "colab_type": "code",
        "colab": {
          "base_uri": "https://localhost:8080/",
          "height": 225
        },
        "outputId": "29d95066-6d60-41ad-8015-59a860c7c887"
      },
      "source": [
        "df.head()"
      ],
      "execution_count": 35,
      "outputs": [
        {
          "output_type": "execute_result",
          "data": {
            "text/html": [
              "<div>\n",
              "<style scoped>\n",
              "    .dataframe tbody tr th:only-of-type {\n",
              "        vertical-align: middle;\n",
              "    }\n",
              "\n",
              "    .dataframe tbody tr th {\n",
              "        vertical-align: top;\n",
              "    }\n",
              "\n",
              "    .dataframe thead th {\n",
              "        text-align: right;\n",
              "    }\n",
              "</style>\n",
              "<table border=\"1\" class=\"dataframe\">\n",
              "  <thead>\n",
              "    <tr style=\"text-align: right;\">\n",
              "      <th></th>\n",
              "      <th>creation_source</th>\n",
              "      <th>last_session_creation_time</th>\n",
              "      <th>opted_in_to_mailing_list</th>\n",
              "      <th>enabled_for_marketing_drip</th>\n",
              "      <th>Adopted</th>\n",
              "      <th>last_session_time</th>\n",
              "      <th>creation_login_gap</th>\n",
              "      <th>invited</th>\n",
              "    </tr>\n",
              "  </thead>\n",
              "  <tbody>\n",
              "    <tr>\n",
              "      <th>0</th>\n",
              "      <td>GUEST_INVITE</td>\n",
              "      <td>1.398139e+09</td>\n",
              "      <td>1</td>\n",
              "      <td>0</td>\n",
              "      <td>0</td>\n",
              "      <td>2014-04-22 03:53:30</td>\n",
              "      <td>0.0</td>\n",
              "      <td>1</td>\n",
              "    </tr>\n",
              "    <tr>\n",
              "      <th>1</th>\n",
              "      <td>ORG_INVITE</td>\n",
              "      <td>1.396238e+09</td>\n",
              "      <td>0</td>\n",
              "      <td>0</td>\n",
              "      <td>1</td>\n",
              "      <td>2014-03-31 03:45:04</td>\n",
              "      <td>136.0</td>\n",
              "      <td>1</td>\n",
              "    </tr>\n",
              "    <tr>\n",
              "      <th>2</th>\n",
              "      <td>ORG_INVITE</td>\n",
              "      <td>1.363735e+09</td>\n",
              "      <td>0</td>\n",
              "      <td>0</td>\n",
              "      <td>0</td>\n",
              "      <td>2013-03-19 23:14:52</td>\n",
              "      <td>0.0</td>\n",
              "      <td>1</td>\n",
              "    </tr>\n",
              "    <tr>\n",
              "      <th>3</th>\n",
              "      <td>GUEST_INVITE</td>\n",
              "      <td>1.369210e+09</td>\n",
              "      <td>0</td>\n",
              "      <td>0</td>\n",
              "      <td>0</td>\n",
              "      <td>2013-05-22 08:09:28</td>\n",
              "      <td>1.0</td>\n",
              "      <td>1</td>\n",
              "    </tr>\n",
              "    <tr>\n",
              "      <th>4</th>\n",
              "      <td>GUEST_INVITE</td>\n",
              "      <td>1.358850e+09</td>\n",
              "      <td>0</td>\n",
              "      <td>0</td>\n",
              "      <td>0</td>\n",
              "      <td>2013-01-22 10:14:20</td>\n",
              "      <td>5.0</td>\n",
              "      <td>1</td>\n",
              "    </tr>\n",
              "  </tbody>\n",
              "</table>\n",
              "</div>"
            ],
            "text/plain": [
              "  creation_source  last_session_creation_time  ...  creation_login_gap  invited\n",
              "0    GUEST_INVITE                1.398139e+09  ...                 0.0        1\n",
              "1      ORG_INVITE                1.396238e+09  ...               136.0        1\n",
              "2      ORG_INVITE                1.363735e+09  ...                 0.0        1\n",
              "3    GUEST_INVITE                1.369210e+09  ...                 1.0        1\n",
              "4    GUEST_INVITE                1.358850e+09  ...                 5.0        1\n",
              "\n",
              "[5 rows x 8 columns]"
            ]
          },
          "metadata": {
            "tags": []
          },
          "execution_count": 35
        },
        {
          "output_type": "stream",
          "text": [
            "time: 34.3 ms\n"
          ],
          "name": "stdout"
        }
      ]
    },
    {
      "cell_type": "code",
      "metadata": {
        "id": "IBoNJA7d1xv2",
        "colab_type": "code",
        "colab": {
          "base_uri": "https://localhost:8080/",
          "height": 72
        },
        "outputId": "52d55c09-135f-4593-d151-8322e0f6a177"
      },
      "source": [
        "X=df[['creation_source','opted_in_to_mailing_list','enabled_for_marketing_drip','invited']]\n",
        "y=df['Adopted']\n",
        "X = X.astype(str)\n",
        "\n",
        "X_train, X_test, y_train, y_test = train_test_split(X, y, test_size=0.33, random_state=1,stratify=y)\n",
        "\n",
        "print('Train', X_train.shape, y_train.shape)\n",
        "print('Test', X_test.shape, y_test.shape)"
      ],
      "execution_count": 36,
      "outputs": [
        {
          "output_type": "stream",
          "text": [
            "Train (8040, 4) (8040,)\n",
            "Test (3960, 4) (3960,)\n",
            "time: 47.2 ms\n"
          ],
          "name": "stdout"
        }
      ]
    },
    {
      "cell_type": "code",
      "metadata": {
        "id": "rwARw_MmwIqA",
        "colab_type": "code",
        "colab": {
          "base_uri": "https://localhost:8080/",
          "height": 72
        },
        "outputId": "ed3d17e3-12ac-4329-f8e6-ccaf3b14ebec"
      },
      "source": [
        "X=df[['creation_source','opted_in_to_mailing_list','enabled_for_marketing_drip','invited','creation_login_gap']]\n",
        "y=df['Adopted']\n",
        "\n",
        "X1 = pd.get_dummies(X, columns = ['creation_source'])\n",
        "\n",
        "\n",
        "X_train, X_test, y_train, y_test = train_test_split(X1, y, test_size=0.33, random_state=1,stratify=y)\n",
        "\n",
        "print('Train', X_train.shape, y_train.shape)\n",
        "print('Test', X_test.shape, y_test.shape)"
      ],
      "execution_count": 49,
      "outputs": [
        {
          "output_type": "stream",
          "text": [
            "Train (8040, 9) (8040,)\n",
            "Test (3960, 9) (3960,)\n",
            "time: 33 ms\n"
          ],
          "name": "stdout"
        }
      ]
    },
    {
      "cell_type": "code",
      "metadata": {
        "id": "tx-QNs93AuIo",
        "colab_type": "code",
        "colab": {
          "base_uri": "https://localhost:8080/",
          "height": 245
        },
        "outputId": "8b0beeee-b126-4e80-86f4-38ef2957ed4c"
      },
      "source": [
        "X1.head()"
      ],
      "execution_count": 48,
      "outputs": [
        {
          "output_type": "execute_result",
          "data": {
            "text/html": [
              "<div>\n",
              "<style scoped>\n",
              "    .dataframe tbody tr th:only-of-type {\n",
              "        vertical-align: middle;\n",
              "    }\n",
              "\n",
              "    .dataframe tbody tr th {\n",
              "        vertical-align: top;\n",
              "    }\n",
              "\n",
              "    .dataframe thead th {\n",
              "        text-align: right;\n",
              "    }\n",
              "</style>\n",
              "<table border=\"1\" class=\"dataframe\">\n",
              "  <thead>\n",
              "    <tr style=\"text-align: right;\">\n",
              "      <th></th>\n",
              "      <th>opted_in_to_mailing_list</th>\n",
              "      <th>enabled_for_marketing_drip</th>\n",
              "      <th>invited</th>\n",
              "      <th>creation_login_gap</th>\n",
              "      <th>creation_source_GUEST_INVITE</th>\n",
              "      <th>creation_source_ORG_INVITE</th>\n",
              "      <th>creation_source_PERSONAL_PROJECTS</th>\n",
              "      <th>creation_source_SIGNUP</th>\n",
              "      <th>creation_source_SIGNUP_GOOGLE_AUTH</th>\n",
              "    </tr>\n",
              "  </thead>\n",
              "  <tbody>\n",
              "    <tr>\n",
              "      <th>0</th>\n",
              "      <td>1</td>\n",
              "      <td>0</td>\n",
              "      <td>1</td>\n",
              "      <td>0.0</td>\n",
              "      <td>1</td>\n",
              "      <td>0</td>\n",
              "      <td>0</td>\n",
              "      <td>0</td>\n",
              "      <td>0</td>\n",
              "    </tr>\n",
              "    <tr>\n",
              "      <th>1</th>\n",
              "      <td>0</td>\n",
              "      <td>0</td>\n",
              "      <td>1</td>\n",
              "      <td>136.0</td>\n",
              "      <td>0</td>\n",
              "      <td>1</td>\n",
              "      <td>0</td>\n",
              "      <td>0</td>\n",
              "      <td>0</td>\n",
              "    </tr>\n",
              "    <tr>\n",
              "      <th>2</th>\n",
              "      <td>0</td>\n",
              "      <td>0</td>\n",
              "      <td>1</td>\n",
              "      <td>0.0</td>\n",
              "      <td>0</td>\n",
              "      <td>1</td>\n",
              "      <td>0</td>\n",
              "      <td>0</td>\n",
              "      <td>0</td>\n",
              "    </tr>\n",
              "    <tr>\n",
              "      <th>3</th>\n",
              "      <td>0</td>\n",
              "      <td>0</td>\n",
              "      <td>1</td>\n",
              "      <td>1.0</td>\n",
              "      <td>1</td>\n",
              "      <td>0</td>\n",
              "      <td>0</td>\n",
              "      <td>0</td>\n",
              "      <td>0</td>\n",
              "    </tr>\n",
              "    <tr>\n",
              "      <th>4</th>\n",
              "      <td>0</td>\n",
              "      <td>0</td>\n",
              "      <td>1</td>\n",
              "      <td>5.0</td>\n",
              "      <td>1</td>\n",
              "      <td>0</td>\n",
              "      <td>0</td>\n",
              "      <td>0</td>\n",
              "      <td>0</td>\n",
              "    </tr>\n",
              "  </tbody>\n",
              "</table>\n",
              "</div>"
            ],
            "text/plain": [
              "   opted_in_to_mailing_list  ...  creation_source_SIGNUP_GOOGLE_AUTH\n",
              "0                         1  ...                                   0\n",
              "1                         0  ...                                   0\n",
              "2                         0  ...                                   0\n",
              "3                         0  ...                                   0\n",
              "4                         0  ...                                   0\n",
              "\n",
              "[5 rows x 9 columns]"
            ]
          },
          "metadata": {
            "tags": []
          },
          "execution_count": 48
        },
        {
          "output_type": "stream",
          "text": [
            "time: 28.3 ms\n"
          ],
          "name": "stdout"
        }
      ]
    },
    {
      "cell_type": "code",
      "metadata": {
        "id": "_Tc3hbqk2k_a",
        "colab_type": "code",
        "colab": {
          "base_uri": "https://localhost:8080/",
          "height": 35
        },
        "outputId": "4ba09416-33d3-43bb-be77-3e09ddfe63d3"
      },
      "source": [
        "\n",
        "\n",
        "from sklearn.ensemble import RandomForestClassifier\n",
        "\n",
        "#train and test classifier\n",
        "rf = RandomForestClassifier(class_weight='balanced_subsample')\n",
        "\n",
        "rf.fit(X_train, y_train)\n",
        "\n",
        "rf.score(X_test, y_test)\n",
        "\n"
      ],
      "execution_count": 50,
      "outputs": [
        {
          "output_type": "execute_result",
          "data": {
            "text/plain": [
              "0.9656565656565657"
            ]
          },
          "metadata": {
            "tags": []
          },
          "execution_count": 50
        },
        {
          "output_type": "stream",
          "text": [
            "time: 711 ms\n"
          ],
          "name": "stdout"
        }
      ]
    },
    {
      "cell_type": "code",
      "metadata": {
        "id": "9ZtqZsko3OPB",
        "colab_type": "code",
        "colab": {
          "base_uri": "https://localhost:8080/",
          "height": 256
        },
        "outputId": "5858872b-9495-48a5-92a7-6955fe842d53"
      },
      "source": [
        "from sklearn.metrics import classification_report, confusion_matrix\n",
        "\n",
        "#print out classification report and confusion matrix\n",
        "y_pred = rf.predict(X_test)\n",
        "\n",
        "print(classification_report(y_test, y_pred))\n",
        "\n",
        "cm= confusion_matrix(y_test,y_pred)\n",
        "print('confusion matrix:')\n",
        "print(cm)"
      ],
      "execution_count": 51,
      "outputs": [
        {
          "output_type": "stream",
          "text": [
            "              precision    recall  f1-score   support\n",
            "\n",
            "           0       0.98      0.98      0.98      3483\n",
            "           1       0.84      0.88      0.86       477\n",
            "\n",
            "    accuracy                           0.97      3960\n",
            "   macro avg       0.91      0.93      0.92      3960\n",
            "weighted avg       0.97      0.97      0.97      3960\n",
            "\n",
            "confusion matrix:\n",
            "[[3402   81]\n",
            " [  55  422]]\n",
            "time: 74 ms\n"
          ],
          "name": "stdout"
        }
      ]
    },
    {
      "cell_type": "code",
      "metadata": {
        "id": "pESE2hx-47Ab",
        "colab_type": "code",
        "colab": {
          "base_uri": "https://localhost:8080/",
          "height": 201
        },
        "outputId": "5c2c07d6-545d-4284-b41f-bfabf452f2ce"
      },
      "source": [
        "#make a df that displays the cofficients indexed by feature name\n",
        "feature_importance = pd.DataFrame()\n",
        "feature_importance['coef'] = rf.feature_importances_\n",
        "feature_importance = feature_importance.set_index(X1.columns)\n",
        "feature_importance.coef.nlargest(10)"
      ],
      "execution_count": 53,
      "outputs": [
        {
          "output_type": "execute_result",
          "data": {
            "text/plain": [
              "creation_login_gap                    0.979723\n",
              "creation_source_PERSONAL_PROJECTS     0.006898\n",
              "opted_in_to_mailing_list              0.003579\n",
              "enabled_for_marketing_drip            0.002595\n",
              "creation_source_GUEST_INVITE          0.001649\n",
              "creation_source_ORG_INVITE            0.001604\n",
              "creation_source_SIGNUP_GOOGLE_AUTH    0.001558\n",
              "creation_source_SIGNUP                0.001373\n",
              "invited                               0.001022\n",
              "Name: coef, dtype: float64"
            ]
          },
          "metadata": {
            "tags": []
          },
          "execution_count": 53
        },
        {
          "output_type": "stream",
          "text": [
            "time: 28.3 ms\n"
          ],
          "name": "stdout"
        }
      ]
    },
    {
      "cell_type": "code",
      "metadata": {
        "id": "r9pyuII76OLK",
        "colab_type": "code",
        "colab": {
          "base_uri": "https://localhost:8080/",
          "height": 225
        },
        "outputId": "4cc9fe81-b910-45da-c0f5-3ee56e3d78a4"
      },
      "source": [
        "feature_importance.head()"
      ],
      "execution_count": 54,
      "outputs": [
        {
          "output_type": "execute_result",
          "data": {
            "text/html": [
              "<div>\n",
              "<style scoped>\n",
              "    .dataframe tbody tr th:only-of-type {\n",
              "        vertical-align: middle;\n",
              "    }\n",
              "\n",
              "    .dataframe tbody tr th {\n",
              "        vertical-align: top;\n",
              "    }\n",
              "\n",
              "    .dataframe thead th {\n",
              "        text-align: right;\n",
              "    }\n",
              "</style>\n",
              "<table border=\"1\" class=\"dataframe\">\n",
              "  <thead>\n",
              "    <tr style=\"text-align: right;\">\n",
              "      <th></th>\n",
              "      <th>coef</th>\n",
              "    </tr>\n",
              "  </thead>\n",
              "  <tbody>\n",
              "    <tr>\n",
              "      <th>opted_in_to_mailing_list</th>\n",
              "      <td>0.003579</td>\n",
              "    </tr>\n",
              "    <tr>\n",
              "      <th>enabled_for_marketing_drip</th>\n",
              "      <td>0.002595</td>\n",
              "    </tr>\n",
              "    <tr>\n",
              "      <th>invited</th>\n",
              "      <td>0.001022</td>\n",
              "    </tr>\n",
              "    <tr>\n",
              "      <th>creation_login_gap</th>\n",
              "      <td>0.979723</td>\n",
              "    </tr>\n",
              "    <tr>\n",
              "      <th>creation_source_GUEST_INVITE</th>\n",
              "      <td>0.001649</td>\n",
              "    </tr>\n",
              "  </tbody>\n",
              "</table>\n",
              "</div>"
            ],
            "text/plain": [
              "                                  coef\n",
              "opted_in_to_mailing_list      0.003579\n",
              "enabled_for_marketing_drip    0.002595\n",
              "invited                       0.001022\n",
              "creation_login_gap            0.979723\n",
              "creation_source_GUEST_INVITE  0.001649"
            ]
          },
          "metadata": {
            "tags": []
          },
          "execution_count": 54
        },
        {
          "output_type": "stream",
          "text": [
            "time: 16.1 ms\n"
          ],
          "name": "stdout"
        }
      ]
    },
    {
      "cell_type": "code",
      "metadata": {
        "id": "vwG0zdKG6ZZ7",
        "colab_type": "code",
        "colab": {
          "base_uri": "https://localhost:8080/",
          "height": 546
        },
        "outputId": "d9d1f65f-a402-4166-8c82-f0f453836017"
      },
      "source": [
        "#plot the results\n",
        "import matplotlib.pyplot as plt\n",
        "plt.figure(figsize=(10,5))\n",
        "(feature_importance['coef']).nlargest(10).plot(kind='bar', x=feature_importance.index)\n",
        "plt.title('Random Forest Classifier Feature Importance')\n",
        "plt.ylabel('coefficient value')\n",
        "plt.show()"
      ],
      "execution_count": 55,
      "outputs": [
        {
          "output_type": "display_data",
          "data": {
            "image/png": "[encoded data removed]",
            "text/plain": [
              "<Figure size 720x360 with 1 Axes>"
            ]
          },
          "metadata": {
            "tags": []
          }
        },
        {
          "output_type": "stream",
          "text": [
            "time: 252 ms\n"
          ],
          "name": "stdout"
        }
      ]
    },
    {
      "cell_type": "markdown",
      "metadata": {
        "id": "Oi5fngm9WLHr",
        "colab_type": "text"
      },
      "source": [
        "#ECDF\n",
        "https://towardsdatascience.com/what-why-and-how-to-read-empirical-cdf-123e2b922480"
      ]
    },
    {
      "cell_type": "code",
      "metadata": {
        "id": "sD06OAozENsh",
        "colab_type": "code",
        "colab": {
          "base_uri": "https://localhost:8080/",
          "height": 35
        },
        "outputId": "565847ce-e911-4d35-bb94-8ee531bd966f"
      },
      "source": [
        "#define func to find ecdf of dataset\n",
        "def ecdf(data):\n",
        "    \"\"\"Compute ECDF for a one-dimensional array of measurements.\"\"\"\n",
        "    n = len(data)\n",
        "    x = np.sort(data)\n",
        "    y = np.arange(1, n+1) / n\n",
        "    return x, y\n",
        "\n",
        "adopted = df.creation_login_gap.loc[df['Adopted'] == 1]\n",
        "not_adopted = df.creation_login_gap.loc[df['Adopted'] == 0]"
      ],
      "execution_count": 56,
      "outputs": [
        {
          "output_type": "stream",
          "text": [
            "time: 9.58 ms\n"
          ],
          "name": "stdout"
        }
      ]
    },
    {
      "cell_type": "code",
      "metadata": {
        "id": "l6fEi4G8En5a",
        "colab_type": "code",
        "colab": {
          "base_uri": "https://localhost:8080/",
          "height": 368
        },
        "outputId": "1fffa7bd-4450-4d92-9863-ba7653cdf7cf"
      },
      "source": [
        "#set fig size\n",
        "%matplotlib inline\n",
        "plt.figure(figsize=(10,5))\n",
        "\n",
        "x_active, y_active = ecdf(adopted)\n",
        "x_inactive, y_inactive = ecdf(not_adopted)\n",
        "\n",
        "plt.plot(x_active, y_active, marker='.', linestyle='none')\n",
        "plt.plot(x_inactive, y_inactive, marker='.', linestyle='none')\n",
        "plt.title('Length of Usage b/w Adopted and Not Adpoted Users')\n",
        "plt.xlabel('Length of Usage (Days)')\n",
        "plt.ylabel('ECDF')\n",
        "plt.legend(['adopted', 'not adopted'])\n",
        "plt.show()"
      ],
      "execution_count": 57,
      "outputs": [
        {
          "output_type": "display_data",
          "data": {
            "image/png": "[encoded data removed]",
            "text/plain": [
              "<Figure size 720x360 with 1 Axes>"
            ]
          },
          "metadata": {
            "tags": []
          }
        },
        {
          "output_type": "stream",
          "text": [
            "time: 297 ms\n"
          ],
          "name": "stdout"
        }
      ]
    },
    {
      "cell_type": "markdown",
      "metadata": {
        "id": "x1HUx-RRE6Ch",
        "colab_type": "text"
      },
      "source": [
        "\n",
        "# References\n",
        "\n",
        "https://github.com/olsenben/relax-data-science-challenge/blob/master/relax-data-science-challenge.ipynb\n",
        "\n",
        "https://github.com/Capella35/Data-Science-Take-Home-Challenge/blob/master/Relax%2BInc.%2BData%2BScience%2BChallenge%20(2).ipynb\n",
        "\n",
        "https://github.com/carlosbrown2/relax-challenge/blob/master/relax%20data%20challenge.ipynb\n",
        "\n",
        "\n"
      ]
    },
    {
      "cell_type": "markdown",
      "metadata": {
        "id": "O8n1Z89YsDae",
        "colab_type": "text"
      },
      "source": [
        "# Summary\n",
        "\n",
        "\n",
        "Following are the fields that are part of the user dataset.\n",
        "\n",
        "\n",
        "\n",
        "1.   object_id\t\n",
        "2.   creation_time\t\n",
        "3.   name\n",
        "4.   email\n",
        "5.   creation_source\n",
        "6.   last_session_creation_time\n",
        "7.   opted_in_to_mailing_list \n",
        "8.   enabled_for_marketing_drip\n",
        "9.   org_id\n",
        "10.  invited_by_user_id\n",
        "\t\n",
        "\t\n",
        "\n",
        "\n",
        "We used the features in the user engagement dataset to create a derived feature called Adopted. Definition of an  \"adopted  user\"   is  a  user  who   has  logged  into  the  product  on  three  separate \n",
        "days  in  at  least  one  seven­day  period. The ask was to  identify  which  factors  predict  future  user  adoption.\n",
        "\n",
        "The following fields obviously cannot be used for prediction - \n",
        "\n",
        "\n",
        "*   object_id\n",
        "*   name\n",
        "*   email\n",
        "*   org_id\n",
        "*   invited_by_user_id\n",
        "\n",
        "\n",
        "Therefore they were dropped from the dataset. A feature 'invited' was engineered from the field - invited_by_user_id and was selected for modelling. \n",
        "A feature called 'creation_login_gap' was created which was the difference in number of days between creation_time and last_session_creation_time.\n",
        "\n",
        "\n",
        "So, the following fields were selected for modelling initially.\n",
        "\n",
        "\n",
        "\n",
        "*   creation_source\n",
        "*   opted_in_to_mailing_list\n",
        "*   enabled_for_marketing_drip\n",
        "*   invited\n",
        "*   creation_login_gap\n",
        "\t\n",
        "\t\n",
        "The categorical feature creation_source had the below values and it seemed like a feature that could potentially influence in a user adoption. Hence, it was encoded and encoded features were created for creation_source.\n",
        "\n",
        "\n",
        "*   GUEST_INVITE\n",
        "*   ORG_INVITE\n",
        "*   PERSONAL_PROJECTS\n",
        "*   SIGNUP\n",
        "*   SIGNUP_GOOGLE_AUTH\n",
        " \t\n",
        "\n",
        "Random forest Classifier was used with a parameter value balanced set to 'balanced_subsample' as the dataset was highly imbalanced.\n",
        "\n",
        "Following was the result of classification which is pretty good.\n",
        "\n",
        "![image.png](data:image/png;base64,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)\n",
        "\n",
        "\n",
        "We then found out the features by their importance provided by the random forest classifier.\n",
        "\n",
        "FEATURES                      &                       RELATIVE IMPORTANCE\n",
        "\n",
        "![image.png](data:image/png;base64,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)\n",
        "\n",
        "\n",
        "\n",
        "![image.png](data:image/png;base64,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)\n",
        "\n",
        "\n",
        "It can be clearly seen that the the creation_login_gap is the biggest contributer to the modelling  task. Other's don't really contribute a lot to the modelling task.\n",
        "\n",
        "\n",
        "![image.png](data:image/png;base64,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)\n",
        "\n",
        "The ECDF plot also confirms that there is a large proportion of the non adoped users with the creation_login_gap value less than that of the adopted users."
      ]
    }
  ]
}